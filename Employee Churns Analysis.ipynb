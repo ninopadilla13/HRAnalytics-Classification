{
 "cells": [
  {
   "cell_type": "markdown",
   "id": "a58406b7",
   "metadata": {},
   "source": [
    "## I. Ask & Prepare Phase\n",
    "\n",
    "\n",
    "This project serves as the capstone for the **Google Data Analytics Professional** Certificate course. I chose the Own Path category to cement the skills I learned from the program.\n",
    "\n",
    "This project aims to analyze various factors **that influence a company’s employee turnover** using our Employee Churn dataset. The dataset used in this project was taken from [Elite Data Science’s](https://elitedatascience.com/) Cornerstone #4 Project: Chief People Officer.\n",
    "\n",
    "With the data provided, I will attempt to understand the various factors **why employees leave.** At the end of the analysis, **I will make recommendations that will hopefully influence this company's practices to promote a better workplace for all.** Hopefully, this increases employee satisfaction and retention.\n",
    "\n"
   ]
  },
  {
   "cell_type": "markdown",
   "id": "915abf66",
   "metadata": {},
   "source": [
    "## II. Process Phase\n",
    "\n",
    "To get started, we will first **download the necessary packages, load our data and assign it to a variable so we can easily reference it.**"
   ]
  },
  {
   "cell_type": "code",
   "execution_count": 1,
   "id": "296237f4",
   "metadata": {},
   "outputs": [],
   "source": [
    "# Pandas for DataFrames\n",
    "import pandas as pd\n",
    "\n",
    "# Matplotlib for visualization\n",
    "from matplotlib import pyplot as plt\n",
    "# display plots in the notebook\n",
    "%matplotlib inline \n",
    "\n",
    "# Seaborn for easier visualization\n",
    "import seaborn as sns\n",
    "sns.set_style('darkgrid')"
   ]
  },
  {
   "cell_type": "code",
   "execution_count": 2,
   "id": "4c8c5ea2",
   "metadata": {},
   "outputs": [],
   "source": [
    "# Assign dataset to a variable\n",
    "df = pd.read_csv('employee_churn.csv')"
   ]
  },
  {
   "cell_type": "markdown",
   "id": "3a7c9bfa",
   "metadata": {},
   "source": [
    "We then inspect the first rows of the data using the **head()** function so we could have a glimpse of what variables we’ll work with.\n",
    "\n"
   ]
  },
  {
   "cell_type": "code",
   "execution_count": 3,
   "id": "7a008715",
   "metadata": {},
   "outputs": [
    {
     "data": {
      "text/html": [
       "<div>\n",
       "<style scoped>\n",
       "    .dataframe tbody tr th:only-of-type {\n",
       "        vertical-align: middle;\n",
       "    }\n",
       "\n",
       "    .dataframe tbody tr th {\n",
       "        vertical-align: top;\n",
       "    }\n",
       "\n",
       "    .dataframe thead th {\n",
       "        text-align: right;\n",
       "    }\n",
       "</style>\n",
       "<table border=\"1\" class=\"dataframe\">\n",
       "  <thead>\n",
       "    <tr style=\"text-align: right;\">\n",
       "      <th></th>\n",
       "      <th>avg_monthly_hrs</th>\n",
       "      <th>department</th>\n",
       "      <th>filed_complaint</th>\n",
       "      <th>last_evaluation</th>\n",
       "      <th>n_projects</th>\n",
       "      <th>recently_promoted</th>\n",
       "      <th>salary</th>\n",
       "      <th>satisfaction</th>\n",
       "      <th>status</th>\n",
       "      <th>tenure</th>\n",
       "    </tr>\n",
       "  </thead>\n",
       "  <tbody>\n",
       "    <tr>\n",
       "      <th>0</th>\n",
       "      <td>221</td>\n",
       "      <td>engineering</td>\n",
       "      <td>NaN</td>\n",
       "      <td>0.932868</td>\n",
       "      <td>4</td>\n",
       "      <td>NaN</td>\n",
       "      <td>low</td>\n",
       "      <td>0.829896</td>\n",
       "      <td>Left</td>\n",
       "      <td>5.0</td>\n",
       "    </tr>\n",
       "    <tr>\n",
       "      <th>1</th>\n",
       "      <td>232</td>\n",
       "      <td>support</td>\n",
       "      <td>NaN</td>\n",
       "      <td>NaN</td>\n",
       "      <td>3</td>\n",
       "      <td>NaN</td>\n",
       "      <td>low</td>\n",
       "      <td>0.834544</td>\n",
       "      <td>Employed</td>\n",
       "      <td>2.0</td>\n",
       "    </tr>\n",
       "    <tr>\n",
       "      <th>2</th>\n",
       "      <td>184</td>\n",
       "      <td>sales</td>\n",
       "      <td>NaN</td>\n",
       "      <td>0.788830</td>\n",
       "      <td>3</td>\n",
       "      <td>NaN</td>\n",
       "      <td>medium</td>\n",
       "      <td>0.834988</td>\n",
       "      <td>Employed</td>\n",
       "      <td>3.0</td>\n",
       "    </tr>\n",
       "    <tr>\n",
       "      <th>3</th>\n",
       "      <td>206</td>\n",
       "      <td>sales</td>\n",
       "      <td>NaN</td>\n",
       "      <td>0.575688</td>\n",
       "      <td>4</td>\n",
       "      <td>NaN</td>\n",
       "      <td>low</td>\n",
       "      <td>0.424764</td>\n",
       "      <td>Employed</td>\n",
       "      <td>2.0</td>\n",
       "    </tr>\n",
       "    <tr>\n",
       "      <th>4</th>\n",
       "      <td>249</td>\n",
       "      <td>sales</td>\n",
       "      <td>NaN</td>\n",
       "      <td>0.845217</td>\n",
       "      <td>3</td>\n",
       "      <td>NaN</td>\n",
       "      <td>low</td>\n",
       "      <td>0.779043</td>\n",
       "      <td>Employed</td>\n",
       "      <td>3.0</td>\n",
       "    </tr>\n",
       "  </tbody>\n",
       "</table>\n",
       "</div>"
      ],
      "text/plain": [
       "   avg_monthly_hrs   department  filed_complaint  last_evaluation  n_projects  \\\n",
       "0              221  engineering              NaN         0.932868           4   \n",
       "1              232      support              NaN              NaN           3   \n",
       "2              184        sales              NaN         0.788830           3   \n",
       "3              206        sales              NaN         0.575688           4   \n",
       "4              249        sales              NaN         0.845217           3   \n",
       "\n",
       "   recently_promoted  salary  satisfaction    status  tenure  \n",
       "0                NaN     low      0.829896      Left     5.0  \n",
       "1                NaN     low      0.834544  Employed     2.0  \n",
       "2                NaN  medium      0.834988  Employed     3.0  \n",
       "3                NaN     low      0.424764  Employed     2.0  \n",
       "4                NaN     low      0.779043  Employed     3.0  "
      ]
     },
     "execution_count": 3,
     "metadata": {},
     "output_type": "execute_result"
    }
   ],
   "source": [
    "# Print first 5 rows of dataset\n",
    "df.head()"
   ]
  },
  {
   "cell_type": "markdown",
   "id": "e5c83b97",
   "metadata": {},
   "source": [
    "Then we'll use **shape()** to see how many rows and columns this dataset has."
   ]
  },
  {
   "cell_type": "code",
   "execution_count": 4,
   "id": "d9a657da",
   "metadata": {},
   "outputs": [
    {
     "data": {
      "text/plain": [
       "(14249, 10)"
      ]
     },
     "execution_count": 4,
     "metadata": {},
     "output_type": "execute_result"
    }
   ],
   "source": [
    "# Get number of rows and columns of dataset\n",
    "df.shape"
   ]
  },
  {
   "cell_type": "markdown",
   "id": "b42c30fd",
   "metadata": {},
   "source": [
    "Next, we will now inspect our data to **understand what it contains** and to make sure **it’s formatted for analysis.**"
   ]
  },
  {
   "cell_type": "code",
   "execution_count": 5,
   "id": "8723180d",
   "metadata": {},
   "outputs": [
    {
     "data": {
      "text/plain": [
       "avg_monthly_hrs        int64\n",
       "department            object\n",
       "filed_complaint      float64\n",
       "last_evaluation      float64\n",
       "n_projects             int64\n",
       "recently_promoted    float64\n",
       "salary                object\n",
       "satisfaction         float64\n",
       "status                object\n",
       "tenure               float64\n",
       "dtype: object"
      ]
     },
     "execution_count": 5,
     "metadata": {},
     "output_type": "execute_result"
    }
   ],
   "source": [
    "# Check For Data Types In Our Data Frame\n",
    "df.dtypes"
   ]
  },
  {
   "cell_type": "code",
   "execution_count": 6,
   "id": "85df001b",
   "metadata": {},
   "outputs": [
    {
     "data": {
      "text/plain": [
       "avg_monthly_hrs          0\n",
       "department             709\n",
       "filed_complaint      12191\n",
       "last_evaluation       1532\n",
       "n_projects               0\n",
       "recently_promoted    13949\n",
       "salary                   0\n",
       "satisfaction           181\n",
       "status                   0\n",
       "tenure                 181\n",
       "dtype: int64"
      ]
     },
     "execution_count": 6,
     "metadata": {},
     "output_type": "execute_result"
    }
   ],
   "source": [
    "# Check Dataset If There Are Null Values\n",
    "df.isnull().sum()"
   ]
  },
  {
   "cell_type": "markdown",
   "id": "ffa167db",
   "metadata": {},
   "source": [
    "We now use the **unique()** function to see the categorical data we’re working with. In this part, we will also see if there are duplicate values and if we should retain or remove them.\n",
    "\n"
   ]
  },
  {
   "cell_type": "code",
   "execution_count": 7,
   "id": "70314d79",
   "metadata": {},
   "outputs": [
    {
     "name": "stdout",
     "output_type": "stream",
     "text": [
      "['engineering' 'support' 'sales' 'IT' 'product' 'marketing' 'temp'\n",
      " 'procurement' 'finance' nan 'management' 'information_technology' 'admin']\n"
     ]
    }
   ],
   "source": [
    "# Check unique values indicated in department variable\n",
    "print(df['department'].unique())"
   ]
  },
  {
   "cell_type": "markdown",
   "id": "3516759f",
   "metadata": {},
   "source": [
    "The IT deparment seems to have a duplicate as there is an entry for **IT** and **information_technology.**\n",
    "\n",
    "There is also a **temp** entry which is for temporary employees. "
   ]
  },
  {
   "cell_type": "code",
   "execution_count": 8,
   "id": "e23acb04",
   "metadata": {},
   "outputs": [
    {
     "name": "stdout",
     "output_type": "stream",
     "text": [
      "['low' 'medium' 'high']\n"
     ]
    }
   ],
   "source": [
    "# Check unique values indicated in salary variable\n",
    "print(df['salary'].unique())"
   ]
  },
  {
   "cell_type": "code",
   "execution_count": 9,
   "id": "befd7f9b",
   "metadata": {},
   "outputs": [
    {
     "name": "stdout",
     "output_type": "stream",
     "text": [
      "['Left' 'Employed']\n"
     ]
    }
   ],
   "source": [
    "# Check unique values indicated in status variable\n",
    "print(df['status'].unique())"
   ]
  },
  {
   "cell_type": "markdown",
   "id": "917199ec",
   "metadata": {},
   "source": [
    "Next, we will now **clean our data to make sure it is formatted** for analysis"
   ]
  },
  {
   "cell_type": "code",
   "execution_count": 10,
   "id": "99e29ed9",
   "metadata": {},
   "outputs": [],
   "source": [
    "# Replace Null values with 0\n",
    "df.filed_complaint.fillna(0, inplace=True)\n",
    "df.recently_promoted.fillna(0, inplace=True)"
   ]
  },
  {
   "cell_type": "code",
   "execution_count": 11,
   "id": "05bac2af",
   "metadata": {},
   "outputs": [],
   "source": [
    "# Replace all instances of the 'information_technology' class with 'IT' instead\n",
    "df.department.replace('information_technology', 'IT', inplace=True)"
   ]
  },
  {
   "cell_type": "code",
   "execution_count": 12,
   "id": "a71bb7e7",
   "metadata": {},
   "outputs": [],
   "source": [
    "# Since we are looking into predicting possible churning, remove temporary employees\n",
    "df = df[df.department != 'temp']"
   ]
  },
  {
   "cell_type": "code",
   "execution_count": 13,
   "id": "dfa33a07",
   "metadata": {},
   "outputs": [
    {
     "data": {
      "image/png": "[encoded data removed]",
      "text/plain": [
       "<Figure size 432x288 with 1 Axes>"
      ]
     },
     "metadata": {},
     "output_type": "display_data"
    }
   ],
   "source": [
    "# Visualize department column to check changes from data cleaning\n",
    "sns.countplot(y='department', data=df, order = df['department'].value_counts().index)\n",
    "plt.show()"
   ]
  },
  {
   "cell_type": "code",
   "execution_count": 14,
   "id": "80c3db64",
   "metadata": {},
   "outputs": [],
   "source": [
    "# Flag 'last_evaluation' column with missing values\n",
    "df['last_evaluation_missing'] = df.last_evaluation.isnull().astype(int)\n",
    "\n",
    "# Then fill original missing values with 0\n",
    "df.last_evaluation.fillna(0, inplace=True)"
   ]
  },
  {
   "cell_type": "code",
   "execution_count": 15,
   "id": "e70ec69e",
   "metadata": {},
   "outputs": [],
   "source": [
    "# Flag 'department' with with missing values\n",
    "df['department_missing'] = df.department.isnull().astype(int)\n",
    "\n",
    "# Then fill original missing values with 0\n",
    "df.department.fillna(0, inplace=True)"
   ]
  },
  {
   "cell_type": "markdown",
   "id": "927ffd2a",
   "metadata": {},
   "source": [
    "The **is.null()** function is used again to check if our data still has null values.\n",
    "\n"
   ]
  },
  {
   "cell_type": "code",
   "execution_count": 16,
   "id": "88654530",
   "metadata": {},
   "outputs": [
    {
     "data": {
      "text/plain": [
       "avg_monthly_hrs            0\n",
       "department                 0\n",
       "filed_complaint            0\n",
       "last_evaluation            0\n",
       "n_projects                 0\n",
       "recently_promoted          0\n",
       "salary                     0\n",
       "satisfaction               0\n",
       "status                     0\n",
       "tenure                     0\n",
       "last_evaluation_missing    0\n",
       "department_missing         0\n",
       "dtype: int64"
      ]
     },
     "execution_count": 16,
     "metadata": {},
     "output_type": "execute_result"
    }
   ],
   "source": [
    "# Display the number of missing values for each feature (both categorical and numeric) \n",
    "df.isnull().sum()"
   ]
  },
  {
   "cell_type": "markdown",
   "id": "91e0a00d",
   "metadata": {},
   "source": [
    "## III. Analyze Phase\n",
    "We will now visualize our processed data to see if there are any interesting trends we can find."
   ]
  },
  {
   "cell_type": "code",
   "execution_count": 17,
   "id": "e9196574",
   "metadata": {},
   "outputs": [
    {
     "data": {
      "image/png": "[encoded data removed]",
      "text/plain": [
       "<Figure size 432x288 with 1 Axes>"
      ]
     },
     "metadata": {},
     "output_type": "display_data"
    }
   ],
   "source": [
    "sns.violinplot(y='status', x='avg_monthly_hrs', data=df).set(title='Employee Status vs. Average Monthly Hours')\n",
    "plt.show()"
   ]
  },
  {
   "cell_type": "markdown",
   "id": "9538b601",
   "metadata": {},
   "source": [
    "This **violin plot** shows the **average monthly hours** worked by employees who **left** or are **still employed** by the company. It’s interesting to note that majority of employees who left work 150 hours per month which averages 6.8 hours per day. The employees who are still employed have a distributed amount of variability in their monthly working hours. \n",
    "\n",
    "**There doesn’t seem to be a clear pattern on the amount of hours worked vs employee status.**"
   ]
  },
  {
   "cell_type": "code",
   "execution_count": 18,
   "id": "a85a35a2",
   "metadata": {},
   "outputs": [
    {
     "data": {
      "image/png": "[encoded data removed]",
      "text/plain": [
       "<Figure size 432x288 with 1 Axes>"
      ]
     },
     "metadata": {},
     "output_type": "display_data"
    }
   ],
   "source": [
    "sns.violinplot(y='status', x='last_evaluation', data=df).set(title='Employee Status vs. Last Evaluation')\n",
    "plt.show()"
   ]
  },
  {
   "cell_type": "markdown",
   "id": "1080ed53",
   "metadata": {},
   "source": [
    "The **last_evaluation** column is now compared to the **status** column. Evaluation is rated on a 0 to 1 basis **wherein the closer one's evaluation score is to 1, the higher the employee is rated.** \n",
    "\n",
    "Based on the plot, **it’s alarming how majority of employees who left have evaluations that range from 0.75 to 1.00. This signals that a lot of top performers are leaving the company.**"
   ]
  },
  {
   "cell_type": "code",
   "execution_count": 19,
   "id": "9a6584d9",
   "metadata": {},
   "outputs": [
    {
     "data": {
      "image/png": "[encoded data removed]",
      "text/plain": [
       "<Figure size 360x360 with 1 Axes>"
      ]
     },
     "metadata": {},
     "output_type": "display_data"
    }
   ],
   "source": [
    "# Visuallize 'last_evaluation' with 'satisfaction' variable \n",
    "sns.lmplot(y='last_evaluation', x='satisfaction', data=df[df.status == 'Left'], fit_reg=False).set(title='Last Evaluation vs. Satisfaction')\n",
    "plt.show()"
   ]
  },
  {
   "cell_type": "markdown",
   "id": "b28147cf",
   "metadata": {},
   "source": [
    "Based on the plot, **there are 3 clusters of people who left.**\n",
    "\n",
    "1. First, we have people with high `last_evaluation` but low `satisfaction`. Maybe these people were **overqualified, frustrated, or unhappy** in some other way.\n",
    "\n",
    "2. Next, we have people with low `last_evaluation` and medium `satisfaction`. These were probably **underperformers or poor cultural fits.**\n",
    "\n",
    "3. Finally, we have people with high `last_evaluation` and high `satisfaction`. Perhaps these were **overachievers who found better offers elsewhere.**"
   ]
  },
  {
   "cell_type": "markdown",
   "id": "65e20149",
   "metadata": {},
   "source": [
    "## IV. Share and Act Phase"
   ]
  },
  {
   "cell_type": "markdown",
   "id": "f625e006",
   "metadata": {},
   "source": [
    "1. We recommend to **increase employee engagement according to performance evaluations.** By this, we need to ensure that employees are given avenues to work on projects that interest them.\n",
    "\n",
    "* This is expected to keep employees with `high last_evaluation but low satisfaction` engaged. \n",
    "\n",
    "* Also, this might help employees `low last_evaluation and medium satisfaction` to increase their motivation. That way, we can potentially help these employees from leaving the company.\n",
    "\n",
    "\n",
    "2. Another avenue we can look at in the future is **compensation levels.** In case we'll pursue this route, **we'll investigate if there's a correlation between salary levels vs. people who left the company.** As of now, the `salary` column is only labeled with three entries (low, medium and high). \n",
    "\n",
    "* This doesn't give us an exact range of how much people are earning so it's difficult to determine if salary levels influence employee churn at this given moment. "
   ]
  }
 ],
 "metadata": {
  "kernelspec": {
   "display_name": "Python 3 (ipykernel)",
   "language": "python",
   "name": "python3"
  },
  "language_info": {
   "codemirror_mode": {
    "name": "ipython",
    "version": 3
   },
   "file_extension": ".py",
   "mimetype": "text/x-python",
   "name": "python",
   "nbconvert_exporter": "python",
   "pygments_lexer": "ipython3",
   "version": "3.9.12"
  }
 },
 "nbformat": 4,
 "nbformat_minor": 5
}
